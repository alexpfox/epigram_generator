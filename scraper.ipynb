{
 "cells": [
  {
   "cell_type": "markdown",
   "metadata": {},
   "source": [
    "# Scrape goodreads for oscar wilde/rupi kaur quotes"
   ]
  },
  {
   "cell_type": "code",
   "execution_count": 1,
   "metadata": {},
   "outputs": [],
   "source": [
    "from bs4 import BeautifulSoup\n",
    "\n",
    "import requests\n",
    "import random\n",
    "import numpy as np\n",
    "import pandas as pd\n",
    "import time\n",
    "import re\n",
    "import csv"
   ]
  },
  {
   "cell_type": "code",
   "execution_count": 2,
   "metadata": {},
   "outputs": [
    {
     "data": {
      "text/html": [
       "<style>.container { width:85% !important; }</style>"
      ],
      "text/plain": [
       "<IPython.core.display.HTML object>"
      ]
     },
     "metadata": {},
     "output_type": "display_data"
    }
   ],
   "source": [
    "from IPython.core.display import display, HTML # wider view\n",
    "display(HTML(\"<style>.container { width:85% !important; }</style>\"))"
   ]
  },
  {
   "cell_type": "code",
   "execution_count": 4,
   "metadata": {},
   "outputs": [],
   "source": [
    "start = 1\n",
    "stop = 158 # 157 pages of quotes for wilde, 29 pgs for kaur\n",
    "\n",
    "pages = np.arange(start,stop,1)"
   ]
  },
  {
   "cell_type": "code",
   "execution_count": 5,
   "metadata": {},
   "outputs": [],
   "source": [
    "def get_quotes(page):\n",
    "    pagedb = []\n",
    "    # url = 'https://www.goodreads.com/author/quotes/8075577.Rupi_Kaur?page=' + str(page)\n",
    "    url = 'https://www.goodreads.com/author/quotes/3565.Oscar_Wilde?page=' + str(page)\n",
    "    response = requests.get(url)\n",
    "    html = response.text\n",
    "    soup = BeautifulSoup(html, 'html.parser') # get the html from the page\n",
    "#     cleaned_soup = clean_soup(soup)\n",
    "    \n",
    "    for script in soup.find_all('script'): # removes every script tag we find \n",
    "        soup.script.decompose()\n",
    "\n",
    "    quotes = soup.find_all('div', {'class':'quoteText'}) # get each quote from the html\n",
    "    \n",
    "    for quote in quotes:\n",
    "        pagedb.append(quote.contents[0]) # \n",
    "\n",
    "    return pagedb"
   ]
  },
  {
   "cell_type": "code",
   "execution_count": 6,
   "metadata": {},
   "outputs": [
    {
     "name": "stdout",
     "output_type": "stream",
     "text": [
      "scraping page 157\n"
     ]
    }
   ],
   "source": [
    "from IPython.display import clear_output\n",
    "\n",
    "quote_list = []\n",
    "\n",
    "for page in pages:\n",
    "    quote_list.append(get_quotes(page)) # scrape quotes from page\n",
    "    delay = random.randint(2, 7) # add delay to make requests look human, these numbers are probably excessively large\n",
    "    time.sleep(delay)\n",
    "    \n",
    "    clear_output()\n",
    "    print('scraping page ' + str(page))"
   ]
  },
  {
   "cell_type": "code",
   "execution_count": 7,
   "metadata": {},
   "outputs": [],
   "source": [
    "clean_quotes = []\n",
    "clean_q = \"\"\n",
    "\n",
    "for quotes in quote_list: # loop through the quotes by page\n",
    "    for quote in quotes:\n",
    "        clean_q = quote.strip(\"\\n\")\n",
    "        clean_q = clean_q.strip(None) # removes leading/trailing whitespace and newlines\n",
    "        clean_quotes.append(clean_q)"
   ]
  },
  {
   "cell_type": "code",
   "execution_count": null,
   "metadata": {},
   "outputs": [],
   "source": [
    "# print(clean_quotes)"
   ]
  },
  {
   "cell_type": "code",
   "execution_count": null,
   "metadata": {},
   "outputs": [],
   "source": [
    "# remove non-english quotes\n",
    "from langdetect import detect\n",
    "\n",
    "quotes_en = []\n",
    "other_quotes = []\n",
    "for row in clean_quotes:\n",
    "    try:\n",
    "        if detect(row) == 'en':\n",
    "            quotes_en.append(row)\n",
    "        else:\n",
    "            other_quotes.append(row)\n",
    "    except:\n",
    "        other_quotes.append(row)"
   ]
  },
  {
   "cell_type": "code",
   "execution_count": null,
   "metadata": {},
   "outputs": [],
   "source": [
    "# make sure we captured every line\n",
    "\n",
    "# print(len(clean_quotes))\n",
    "# print(len(quotes_en))\n",
    "# print(len(other_quotes))"
   ]
  },
  {
   "cell_type": "code",
   "execution_count": null,
   "metadata": {},
   "outputs": [],
   "source": [
    "# print(quotes_en)"
   ]
  },
  {
   "cell_type": "markdown",
   "metadata": {},
   "source": [
    "### store csvs"
   ]
  },
  {
   "cell_type": "code",
   "execution_count": null,
   "metadata": {},
   "outputs": [],
   "source": [
    "import csv\n",
    "\n",
    "filename = 'wilde_quotes'\n",
    "#filename = 'kaur_quotes'\n",
    "\n",
    "with open(filename, 'w', newline='\\n') as writeFile:\n",
    "    writeFile.write('\\n'.join(quote for quote in quotes_en))\n",
    "\n",
    "writeFile.close()"
   ]
  },
  {
   "cell_type": "code",
   "execution_count": 10,
   "metadata": {},
   "outputs": [],
   "source": [
    "import csv\n",
    "\n",
    "quotes_check = []\n",
    "with open('quotes_en.csv', 'r') as csvfile:\n",
    "    spamreader = csv.reader(csvfile, delimiter='\\n')\n",
    "    for row in spamreader:\n",
    "        quotes_list.append('\\n'.join(row))"
   ]
  },
  {
   "cell_type": "code",
   "execution_count": 17,
   "metadata": {},
   "outputs": [],
   "source": [
    "print(quotes_check)"
   ]
  }
 ],
 "metadata": {
  "kernelspec": {
   "display_name": "Python 3",
   "language": "python",
   "name": "python3"
  },
  "language_info": {
   "codemirror_mode": {
    "name": "ipython",
    "version": 3
   },
   "file_extension": ".py",
   "mimetype": "text/x-python",
   "name": "python",
   "nbconvert_exporter": "python",
   "pygments_lexer": "ipython3",
   "version": "3.6.5"
  }
 },
 "nbformat": 4,
 "nbformat_minor": 2
}
